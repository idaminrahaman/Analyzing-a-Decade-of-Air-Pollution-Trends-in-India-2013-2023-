{
 "cells": [
  {
   "cell_type": "code",
   "execution_count": 12,
   "id": "7511987d",
   "metadata": {},
   "outputs": [],
   "source": [
    "#Load the necessary libraries required for our work\n",
    "import pandas as pd\n",
    "import numpy as mp\n",
    "import matplotlib.pyplot as plt\n",
    "import seaborn as sns"
   ]
  },
  {
   "cell_type": "code",
   "execution_count": 13,
   "id": "13077a97",
   "metadata": {},
   "outputs": [],
   "source": [
    "#Import our  xlsx file\n",
    "df = pd.read_excel('C:\\\\DATA ANALYSIS\\\\My projects\\\\polution-data\\\\02_extracted_excel_files\\\\compiled.xlsx')"
   ]
  },
  {
   "cell_type": "code",
   "execution_count": 14,
   "id": "2c23d34a",
   "metadata": {},
   "outputs": [],
   "source": [
    "df[\"State\"] = df[\"State\"].str.replace(r'[\\r\\n]+', ' ', regex=True)\n",
    "df[\"City\"] = df[\"City\"].str.replace(r'[\\r\\n]+', ' ', regex=True)"
   ]
  },
  {
   "cell_type": "code",
   "execution_count": 15,
   "id": "0bfe824a",
   "metadata": {},
   "outputs": [],
   "source": [
    "df.to_csv('C:\\\\ProgramData\\\\MySQL\\\\MySQL Server 8.0\\\\Uploads\\\\compiled_csv.csv')"
   ]
  }
 ],
 "metadata": {
  "kernelspec": {
   "display_name": "Python 3",
   "language": "python",
   "name": "python3"
  },
  "language_info": {
   "codemirror_mode": {
    "name": "ipython",
    "version": 3
   },
   "file_extension": ".py",
   "mimetype": "text/x-python",
   "name": "python",
   "nbconvert_exporter": "python",
   "pygments_lexer": "ipython3",
   "version": "3.13.3"
  }
 },
 "nbformat": 4,
 "nbformat_minor": 5
}
